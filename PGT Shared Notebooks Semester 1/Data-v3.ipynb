{
 "cells": [
  {
   "cell_type": "code",
   "execution_count": 1,
   "metadata": {
    "application/vnd.databricks.v1+cell": {
     "cellMetadata": {
      "byteLimit": 2048000,
      "rowLimit": 10000
     },
     "inputWidgets": {},
     "nuid": "44145bb7-2ee4-4424-b940-abb1e4e64476",
     "showTitle": false,
     "title": ""
    }
   },
   "outputs": [
    {
     "name": "stdout",
     "output_type": "stream",
     "text": [
      "Requirement already satisfied: duckdb in /home/joelva/.pyenv/versions/3.11.5/lib/python3.11/site-packages (0.9.2)\n",
      "\n",
      "\u001b[1m[\u001b[0m\u001b[34;49mnotice\u001b[0m\u001b[1;39;49m]\u001b[0m\u001b[39;49m A new release of pip is available: \u001b[0m\u001b[31;49m23.2.1\u001b[0m\u001b[39;49m -> \u001b[0m\u001b[32;49m24.0\u001b[0m\n",
      "\u001b[1m[\u001b[0m\u001b[34;49mnotice\u001b[0m\u001b[1;39;49m]\u001b[0m\u001b[39;49m To update, run: \u001b[0m\u001b[32;49mpip install --upgrade pip\u001b[0m\n",
      "Note: you may need to restart the kernel to use updated packages.\n"
     ]
    }
   ],
   "source": [
    "pip install duckdb"
   ]
  },
  {
   "cell_type": "code",
   "execution_count": 2,
   "metadata": {
    "application/vnd.databricks.v1+cell": {
     "cellMetadata": {
      "byteLimit": 2048000,
      "rowLimit": 10000
     },
     "inputWidgets": {},
     "nuid": "a4822a06-b46b-470f-860f-c3a33b85eedb",
     "showTitle": false,
     "title": ""
    }
   },
   "outputs": [],
   "source": [
    "## Standard imports\n",
    "import numpy as np\n",
    "import matplotlib.pyplot as plt\n",
    "import seaborn as sns # plotting library\n",
    "import pandas as pd\n",
    "\n",
    "## Package for sql\n",
    "import duckdb\n",
    "\n",
    "## Distribution fitting\n",
    "# from scipy import stats"
   ]
  },
  {
   "cell_type": "code",
   "execution_count": 4,
   "metadata": {
    "application/vnd.databricks.v1+cell": {
     "cellMetadata": {
      "byteLimit": 2048000,
      "rowLimit": 10000
     },
     "inputWidgets": {},
     "nuid": "460b6a92-e11d-4b38-b048-bc72cdba07dc",
     "showTitle": false,
     "title": ""
    }
   },
   "outputs": [],
   "source": [
    "#import dataframe\n",
    "df = pd.read_parquet('/home/joelva/code/pgt-group-3/data/raw/Complete_Set/DeltaH2.parquet')"
   ]
  },
  {
   "cell_type": "code",
   "execution_count": 5,
   "metadata": {},
   "outputs": [
    {
     "data": {
      "text/plain": [
       "<bound method NDFrame.describe of                                  datetime  H2Weight  DeltaH2Weight\n",
       "0               2022-08-01 04:04:12+00:00       0.0            NaN\n",
       "1        2022-08-01 04:04:12.240000+00:00       0.0            0.0\n",
       "2        2022-08-01 04:04:12.480000+00:00       0.0            0.0\n",
       "3        2022-08-01 04:04:12.780000+00:00       0.0            0.0\n",
       "4        2022-08-01 04:04:13.020000+00:00       0.0            0.0\n",
       "...                                   ...       ...            ...\n",
       "34776602 2023-04-29 16:04:34.220000+00:00       0.0            0.0\n",
       "34776603 2023-04-29 16:04:34.460000+00:00       0.0            0.0\n",
       "34776604 2023-04-29 16:04:34.700000+00:00       0.0            0.0\n",
       "34776605 2023-04-29 16:04:34.940000+00:00       0.0            0.0\n",
       "34776606 2023-04-29 16:04:35.180000+00:00       0.0            0.0\n",
       "\n",
       "[34776607 rows x 3 columns]>"
      ]
     },
     "execution_count": 5,
     "metadata": {},
     "output_type": "execute_result"
    }
   ],
   "source": [
    "df.describe"
   ]
  },
  {
   "cell_type": "markdown",
   "metadata": {
    "application/vnd.databricks.v1+cell": {
     "cellMetadata": {
      "byteLimit": 2048000,
      "rowLimit": 10000
     },
     "inputWidgets": {},
     "nuid": "b4b0a3bc-6e56-4d6f-825d-c6ae7c880f35",
     "showTitle": false,
     "title": ""
    }
   },
   "source": [
    "describe_column(df, 'ToDisp_Drive_Temp_Motor_y')"
   ]
  }
 ],
 "metadata": {
  "application/vnd.databricks.v1+notebook": {
   "dashboards": [],
   "language": "python",
   "notebookMetadata": {
    "pythonIndentUnit": 4
   },
   "notebookName": "Data",
   "widgets": {}
  },
  "kernelspec": {
   "display_name": "Python 3",
   "language": "python",
   "name": "python3"
  },
  "language_info": {
   "codemirror_mode": {
    "name": "ipython",
    "version": 3
   },
   "file_extension": ".py",
   "mimetype": "text/x-python",
   "name": "python",
   "nbconvert_exporter": "python",
   "pygments_lexer": "ipython3",
   "version": "3.11.5"
  }
 },
 "nbformat": 4,
 "nbformat_minor": 0
}
