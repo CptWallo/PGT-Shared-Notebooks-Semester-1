{
 "cells": [
  {
   "cell_type": "code",
   "execution_count": 2,
   "metadata": {
    "application/vnd.databricks.v1+cell": {
     "cellMetadata": {
      "byteLimit": 2048000,
      "rowLimit": 10000
     },
     "inputWidgets": {},
     "nuid": "44145bb7-2ee4-4424-b940-abb1e4e64476",
     "showTitle": false,
     "title": ""
    }
   },
   "outputs": [
    {
     "name": "stdout",
     "output_type": "stream",
     "text": [
      "Requirement already satisfied: duckdb in /home/joelva/.pyenv/versions/3.11.5/lib/python3.11/site-packages (0.9.2)\n",
      "\n",
      "\u001b[1m[\u001b[0m\u001b[34;49mnotice\u001b[0m\u001b[1;39;49m]\u001b[0m\u001b[39;49m A new release of pip is available: \u001b[0m\u001b[31;49m23.2.1\u001b[0m\u001b[39;49m -> \u001b[0m\u001b[32;49m23.3.2\u001b[0m\n",
      "\u001b[1m[\u001b[0m\u001b[34;49mnotice\u001b[0m\u001b[1;39;49m]\u001b[0m\u001b[39;49m To update, run: \u001b[0m\u001b[32;49mpip install --upgrade pip\u001b[0m\n",
      "Note: you may need to restart the kernel to use updated packages.\n"
     ]
    }
   ],
   "source": [
    "pip install duckdb"
   ]
  },
  {
   "cell_type": "code",
   "execution_count": 3,
   "metadata": {
    "application/vnd.databricks.v1+cell": {
     "cellMetadata": {
      "byteLimit": 2048000,
      "rowLimit": 10000
     },
     "inputWidgets": {},
     "nuid": "a4822a06-b46b-470f-860f-c3a33b85eedb",
     "showTitle": false,
     "title": ""
    }
   },
   "outputs": [],
   "source": [
    "## Standard imports\n",
    "import numpy as np\n",
    "import matplotlib.pyplot as plt\n",
    "import seaborn as sns # plotting library\n",
    "import pandas as pd\n",
    "\n",
    "## Package for sql\n",
    "import duckdb\n",
    "\n",
    "## Distribution fitting\n",
    "# from scipy import stats"
   ]
  },
  {
   "cell_type": "code",
   "execution_count": 4,
   "metadata": {
    "application/vnd.databricks.v1+cell": {
     "cellMetadata": {
      "byteLimit": 2048000,
      "rowLimit": 10000
     },
     "inputWidgets": {},
     "nuid": "460b6a92-e11d-4b38-b048-bc72cdba07dc",
     "showTitle": false,
     "title": ""
    }
   },
   "outputs": [],
   "source": [
    "#import dataframe\n",
    "\n",
    "df = pd.read_parquet('/home/joelva/code/pgt-group-3/data/raw/Complete_Set/HECTORdataAggregated-2.parquet')\n"
   ]
  },
  {
   "cell_type": "markdown",
   "metadata": {
    "application/vnd.databricks.v1+cell": {
     "cellMetadata": {
      "byteLimit": 2048000,
      "rowLimit": 10000
     },
     "inputWidgets": {},
     "nuid": "b4b0a3bc-6e56-4d6f-825d-c6ae7c880f35",
     "showTitle": false,
     "title": ""
    }
   },
   "source": [
    "describe_column(df, 'ToDisp_Drive_Temp_Motor_y')"
   ]
  },
  {
   "cell_type": "code",
   "execution_count": null,
   "metadata": {
    "application/vnd.databricks.v1+cell": {
     "cellMetadata": {
      "byteLimit": 2048000,
      "rowLimit": 10000
     },
     "inputWidgets": {},
     "nuid": "3496470c-d3fd-4162-9fad-171add36a54b",
     "showTitle": false,
     "title": ""
    }
   },
   "outputs": [],
   "source": [
    "# Data cleaning\n",
    "# Convert 'Bat_MaximumVoltage_x' column to datetime if it's not already in datetime format\n",
    "df['Bat_MaximumVoltage_x'] = pd.to_datetime(df['Bat_MaximumVoltage_x'])\n",
    "\n",
    "# Data cleaning\n",
    "df['Bat_TotalCurrent_y'] = df['Bat_TotalCurrent_y'].replace(-3200.0, 0)\n",
    "df['Chas_Weight_Axle_1_y'] = df['Chas_Weight_Axle_1_y'].replace(32767.0, 0)\n",
    "df['Chas_Weight_Axle_2_y'] = df['Chas_Weight_Axle_2_y'].replace(32767.0, 0)\n",
    "df['Chas_Weight_Axle_3_y'] = df['Chas_Weight_Axle_3_y'].replace(32767.0, 0)\n",
    "\n",
    "# Remove column\n",
    "del df['Chas_Weight_Total_y']\n",
    "\n",
    "# Negative fuels cell values? For now we keep it in the data\n",
    "# FCell_RX_Stack_Current_y\n",
    "# FCell_2_RX_Stack_Current_y\n",
    "# FCell_3_RX_Stack_Current_y\n",
    "\n",
    "# Negative torque? Engine braking?\n",
    "# MINVa_RX_VP_Status1_1_ActualTorque_y\n",
    "\n",
    "# Replace specific values (-40.0 in this case) with NaN\n",
    "df['ToDisp_Drive_Temp_Motor_y'] = df['ToDisp_Drive_Temp_Motor_y'].replace(-40.0, np.nan)\n",
    "\n",
    "# Forward fill only for the positions where the value was -40.0\n",
    "df['ToDisp_Drive_Temp_Motor_y'] = df['ToDisp_Drive_Temp_Motor_y'].fillna(method='ffill')"
   ]
  },
  {
   "cell_type": "code",
   "execution_count": null,
   "metadata": {
    "application/vnd.databricks.v1+cell": {
     "cellMetadata": {
      "byteLimit": 2048000,
      "rowLimit": 10000
     },
     "inputWidgets": {},
     "nuid": "83f39bfd-81dc-484d-aa05-7b5dbafbd5bb",
     "showTitle": false,
     "title": ""
    }
   },
   "outputs": [
    {
     "data": {
      "text/html": [
       "<style scoped>\n",
       "  .ansiout {\n",
       "    display: block;\n",
       "    unicode-bidi: embed;\n",
       "    white-space: pre-wrap;\n",
       "    word-wrap: break-word;\n",
       "    word-break: break-all;\n",
       "    font-family: \"Menlo\", \"Monaco\", \"Consolas\", \"Ubuntu Mono\", \"Source Code Pro\", monospace;\n",
       "    font-size: 13px;\n",
       "    color: #555;\n",
       "    margin-left: 4px;\n",
       "    line-height: 19px;\n",
       "  }\n",
       "</style>"
      ]
     },
     "metadata": {
      "application/vnd.databricks.v1+output": {
       "arguments": {},
       "data": "",
       "errorSummary": "Command skipped",
       "errorTraceType": "html",
       "metadata": {},
       "type": "ipynbError"
      }
     },
     "output_type": "display_data"
    }
   ],
   "source": [
    "# Feature engineering\n",
    "# Create a column 'BattOutputPower' calculated with V*I\n",
    "df['BattOutputPower'] = df['Bat_TotalCurrent_y'] * df['Bat_TotalVoltage_y']\n",
    "\n",
    "# Create a column 'MotorPowerDraw' calculated with V*I\n",
    "df['MotorPowerDraw'] = df['MINVa_RX_VP_Status2_1_ActualcalcDC_INCurrent_y'] * df['Bat_TotalVoltage_y']\n",
    "\n",
    "# Create a column 'FCPowerDelivery' calculated with the sum of the V*I from the three Fuel Cells\n",
    "df['TotalFCPower'] = df['FCell_2_RX_Stack_Current_y'] * df['FCell_2_RX_Stack_Voltage_y'] + df['FCell_3_RX_Stack_Current_y'] * df['FCell_3_RX_Stack_Voltage_y'] + df['FCell_RX_Stack_Current_y'] * df['FCell_RX_Stack_Voltage_y']\n",
    "\n",
    "# Create a column 'ActualSpeed' calculated MotorRPM * 0.175\n",
    "df['ActualSpeed'] = df['MINVa_RX_VP_Status1_1_ActualSpeed_y'] * 0.175\n",
    "\n",
    "# Create a column calculating the total power demand by including the compactor system\n",
    "# this is calculated by adding the power draw of the compactor system (*10) to the power draw of the motor\n",
    "df['TotalPowerDraw'] = df['Data_Energy_CurrentEnergyBody_y'] * 10 + df['MotorPowerDraw']\n",
    "\n"
   ]
  },
  {
   "cell_type": "code",
   "execution_count": null,
   "metadata": {
    "application/vnd.databricks.v1+cell": {
     "cellMetadata": {
      "byteLimit": 2048000,
      "rowLimit": 10000
     },
     "inputWidgets": {},
     "nuid": "f979bb2f-656d-461e-8dfb-cbee38a25445",
     "showTitle": false,
     "title": ""
    }
   },
   "outputs": [
    {
     "data": {
      "text/html": [
       "<style scoped>\n",
       "  .ansiout {\n",
       "    display: block;\n",
       "    unicode-bidi: embed;\n",
       "    white-space: pre-wrap;\n",
       "    word-wrap: break-word;\n",
       "    word-break: break-all;\n",
       "    font-family: \"Menlo\", \"Monaco\", \"Consolas\", \"Ubuntu Mono\", \"Source Code Pro\", monospace;\n",
       "    font-size: 13px;\n",
       "    color: #555;\n",
       "    margin-left: 4px;\n",
       "    line-height: 19px;\n",
       "  }\n",
       "</style>"
      ]
     },
     "metadata": {
      "application/vnd.databricks.v1+output": {
       "arguments": {},
       "data": "",
       "errorSummary": "Command skipped",
       "errorTraceType": "html",
       "metadata": {},
       "type": "ipynbError"
      }
     },
     "output_type": "display_data"
    }
   ],
   "source": [
    "#Renaming columns with a more friendly\n",
    "column_rename_mapping = {\n",
    "    'Bat_MaximumVoltage_x': 'datetime',\n",
    "    'Bat_MaximumVoltage_y': 'BatMaxV',\n",
    "    'Bat_MinimumVoltage_y': 'BatMinV',\n",
    "    'Bat_SOC_y': 'BatSOC',\n",
    "    'Bat_TotalCurrent_y': 'BatTotalCurrent',\n",
    "    'Bat_TotalVoltage_y': 'BatTotalVoltage',\n",
    "    'Body_Active_y': 'CompOnOff',\n",
    "    'Body_EmergencyStopActivated_y': 'StopOnOff',\n",
    "    'Chas_AccPedalPos1000_y': 'ThrottlePerc',\n",
    "    'Chas_BrakePedalPos1000_y': 'BrakePerc',\n",
    "    'Chas_Signal_AirCon_SW_y': 'Signal',\n",
    "    'Chas_TotalVehicleDistance_m_y': 'TotalDistance',\n",
    "    'Chas_Weight_Axle_1_y': 'FrontAxle',\n",
    "    'Chas_Weight_Axle_2_y': 'RearAxle1',\n",
    "    'Chas_Weight_Axle_3_y': 'RearAxle2',\n",
    "    'Chas_Weight_Total_y': 'TotalAxle',\n",
    "    'Data_Energy_CurrentEnergyBody_y': 'CompPower',\n",
    "    'FCell_2_RX_air_flow_y': 'FC2AirFlow',\n",
    "    'FCell_2_RX_cool_Temp_y': 'FC2Cool',\n",
    "    'FCell_2_RX_Stack_Current_y': 'FC2Current',\n",
    "    'FCell_2_RX_Stack_Voltage_y': 'FC2Volt',\n",
    "    'FCell_3_RX_air_flow_y': 'FC3AirFlow',\n",
    "    'FCell_3_RX_cool_Temp_y': 'FC3Cool',\n",
    "    'FCell_3_RX_Stack_Current_y': 'FC3Current',\n",
    "    'FCell_3_RX_Stack_Voltage_y': 'FC3Volt',\n",
    "    'FCell_RX_air_flow_y': 'FC1AirFlow',\n",
    "    'FCell_RX_cool_Temp_y': 'FC1Cool',\n",
    "    'FCell_RX_Stack_Current_y': 'FC1Current',\n",
    "    'FCell_RX_Stack_Voltage_y': 'FC1Volt',\n",
    "    'gps_altitude_y': 'GPSAltitude',\n",
    "    'gps_latitude_y': 'GPSLatitude',\n",
    "    'gps_longitude_y': 'GPSLongitude',\n",
    "    'H2_Fill_ALL_y': 'H2Perc',\n",
    "    'H2_Press_ALL_y': 'H2Press',\n",
    "    'H2_Temp_ALL_y': 'H2Temp',\n",
    "    'H2_Weight_ALL_y': 'H2Weight',\n",
    "    'HVS3_RX_Result_I_Value_y': 'HVACDraw',\n",
    "    'MINVa_RX_VP_Status1_1_ActualSpeed_y': 'MotorRPM',\n",
    "    'MINVa_RX_VP_Status1_1_ActualTorque_y': 'MotorTorque',\n",
    "    'MINVa_RX_VP_Status2_1_ActualcalcDC_INCurrent_y': 'MotorUseCurrent',\n",
    "    'ToDisp_Drive_Temp_Motor_y': 'MotorTemp',\n",
    "    'VBB_30_y': '24VBatt'\n",
    "}\n",
    "df.rename(columns=column_rename_mapping, inplace=True)"
   ]
  },
  {
   "cell_type": "markdown",
   "metadata": {
    "application/vnd.databricks.v1+cell": {
     "cellMetadata": {
      "byteLimit": 2048000,
      "rowLimit": 10000
     },
     "inputWidgets": {},
     "nuid": "0c611963-9957-4373-8802-72ffc3c5f48c",
     "showTitle": false,
     "title": ""
    }
   },
   "source": [
    "Deze functie, 'aggregate', is ontworpen om een SQL-query samen te stellen voor het aggregeren van gegevens uit een DataFrame met behulp van DuckDB. De functie creëert een query die verschillende aggregatiefuncties toepast, zoals het berekenen van gemiddelden (AVG) en het vinden van maximale waarden (MAX), voor een reeks gespecificeerde kolommen. De gegevens worden gegroepeerd op basis van een afgekorte versie van de 'datetime'-kolom en geordend op basis van deze gegroepeerde tijd. Dit is bijzonder nuttig voor het analyseren van tijdsgebonden data, waarbij men inzicht wil krijgen in trends over verschillende tijdsintervallen. De output van de functie is een nieuw DataFrame dat de geaggregeerde resultaten bevat, wat handig is voor verdere analyse of visualisatie."
   ]
  },
  {
   "cell_type": "code",
   "execution_count": 1,
   "metadata": {
    "application/vnd.databricks.v1+cell": {
     "cellMetadata": {
      "byteLimit": 2048000,
      "rowLimit": 10000
     },
     "inputWidgets": {},
     "nuid": "128a9070-8c71-4ff6-a4ca-7e3550df13ba",
     "showTitle": false,
     "title": ""
    }
   },
   "outputs": [],
   "source": [
    "#QUERY\n",
    "def aggregate():\n",
    "    # Basis SELECT statement voor de SQL-query\n",
    "    v_select = \"SELECT \" \n",
    "\n",
    "    # Definieer de kolommen die moeten worden opgenomen in de query.\n",
    "    # Dit omvat berekeningen zoals AVG (gemiddelde) en MAX (maximale waarde) van de gespecificeerde kolommen.\n",
    "    v_col0 = \"LEFT(Cast(t.datetime AS VARCHAR), 18) AS Vdatetime,\"\n",
    "    v_col1 = \"MAX(t.datetime) AS datetime,\"\n",
    "    v_col2 = \"AVG(t.BatMaxV) AS BatMaxV,\"\n",
    "    v_col3 = \"AVG(t.BatMinV) AS BatMinV,\"\n",
    "    v_col4 = \"AVG(t.BatSOC) AS BatSOC,\"\n",
    "    v_col5 = \"AVG(t.BatTotalCurrent) AS BatTotalCurrent,\"\n",
    "    v_col6 = \"AVG(t.BatTotalVoltage) AS BatTotalVoltage,\"\n",
    "    v_col7 = \"MAX(t.CompOnOff) AS CompOnOff,\"\n",
    "    v_col8 = \"MAX(t.StopOnOff) AS StopOnOff,\"\n",
    "    v_col9 = \"AVG(t.ThrottlePerc) AS ThrottlePerc,\"\n",
    "    v_col10 = \"AVG(t.BrakePerc) AS BrakePerc,\"\n",
    "    v_col11 = \"MAX(t.Signal) AS Signal,\"\n",
    "    v_col12 = \"AVG(t.TotalDistance) AS TotalDistance,\"\n",
    "    v_col13 = \"AVG(t.FrontAxle) AS FrontAxle,\"\n",
    "    v_col14 = \"AVG(t.RearAxle1) AS RearAxle1,\"\n",
    "    v_col15 = \"AVG(t.RearAxle2) AS RearAxle2,\"\n",
    "    v_col16 = \"AVG(t.CompPower) AS CompPower,\"\n",
    "    v_col17 = \"AVG(t.FC2AirFlow) AS FC2AirFlow,\"\n",
    "    v_col18 = \"AVG(t.FC2Cool) AS FC2Cool,\"\n",
    "    v_col19 = \"AVG(t.FC2Current) AS FC2Current,\"\n",
    "    v_col20 = \"AVG(t.FC2Volt) AS FC2Volt,\"\n",
    "    v_col21 = \"AVG(t.FC3AirFlow) AS FC3AirFlow,\"\n",
    "    v_col22 = \"AVG(t.FC3Cool) AS FC3Cool,\"\n",
    "    v_col23 = \"AVG(t.FC3Current) AS FC3Current,\"\n",
    "    v_col24 = \"AVG(t.FC3Volt) AS FC3Volt,\"\n",
    "    v_col25 = \"AVG(t.FC1AirFlow) AS FC1AirFlow,\"\n",
    "    v_col26 = \"AVG(t.FC1Cool) AS FC1Cool,\"\n",
    "    v_col27 = \"AVG(t.FC1Current) AS FC1Current,\"\n",
    "    v_col28 = \"AVG(t.FC1Volt) AS FC1Volt,\"\n",
    "    v_col29 = \"MAX(t.GPSAltitude) AS GPSAltitude,\"\n",
    "    v_col30 = \"MAX(t.GPSLatitude) AS GPSLatitude,\"\n",
    "    v_col31 = \"MAX(t.GPSLongitude) AS GPSLongitude,\"\n",
    "    v_col32 = \"AVG(t.H2Perc) AS H2Perc,\"\n",
    "    v_col33 = \"AVG(t.H2Press) AS H2Press,\"\n",
    "    v_col34 = \"AVG(t.H2Temp) AS H2Temp,\"\n",
    "    v_col35 = \"AVG(t.H2Weight) AS H2Weight,\"\n",
    "    v_col36 = \"AVG(t.HVACDraw) AS HVACDraw,\"\n",
    "    v_col37 = \"AVG(t.MotorRPM) AS MotorRPM,\"\n",
    "    v_col38 = \"AVG(t.MotorTorque) AS MotorTorque,\"\n",
    "    v_col39 = \"AVG(t.MotorUseCurrent) AS MotorUseCurrent,\"\n",
    "    v_col40 = \"AVG(t.MotorTemp) AS MotorTemp,\"\n",
    "    #v_col41 = \"AVG(t.24VBatt) AS 24VBatt,\"\n",
    "    v_col42 = \"AVG(t.BattOutputPower) AS BattOutputPower,\"\n",
    "    v_col43 = \"AVG(t.MotorPowerDraw) AS MotorPowerDraw,\"\n",
    "    v_col44 = \"AVG(t.TotalFCPower) AS TotalFCPower,\"\n",
    "    v_col45 = \"AVG(t.ActualSpeed) AS ActualSpeed,\"\n",
    "    v_col46 = \"AVG(t.TotalPowerDraw) AS TotalPowerDraw\"\n",
    "\n",
    "    # FROM clausule specificeert de data source (in dit geval een DataFrame)\n",
    "    v_from = \" FROM df t \"\n",
    "    \n",
    "    # GROUP BY clausule om de data te groeperen op een afgekorte versie van de datetime kolom\n",
    "    v_groupby = \"GROUP  BY LEFT(Cast(datetime AS VARCHAR), 18) \"\n",
    "\n",
    "    # ORDER BY clausule om de resultaten te ordenen\n",
    "    v_orderby = \"ORDER  BY 1\"\n",
    "\n",
    "    # Combineert alle delen van de SQL-query in één string\n",
    "    v_query = v_select + v_col0 + v_col1 + v_col2 + v_col3 + v_col4 + v_col5 + v_col6 + v_col7 + v_col8 + v_col9 + v_col10 + v_col11 + v_col12 + v_col13 + v_col14 + v_col15 + v_col16 + v_col17 + v_col18 + v_col19 + v_col20 + v_col21 + v_col22 + v_col23 + v_col24 + v_col25 + v_col26 + v_col27 + v_col28 + v_col29 + v_col30 + v_col31 + v_col32 + v_col33 + v_col34 + v_col35 + v_col36 + v_col37 + v_col38 + v_col39 + v_col40 + v_col42 + v_col43 + v_col44 + v_col45 + v_col46 + v_from + v_groupby + v_orderby\n",
    "    \n",
    "    # Voert de query uit met DuckDB en retourneert het resultaat als een DataFrame\n",
    "    return duckdb.query(v_query).df()"
   ]
  },
  {
   "cell_type": "code",
   "execution_count": 9,
   "metadata": {
    "application/vnd.databricks.v1+cell": {
     "cellMetadata": {
      "byteLimit": 2048000,
      "rowLimit": 10000
     },
     "inputWidgets": {},
     "nuid": "a481a73d-c179-4b1d-af3d-17c6877a4f3a",
     "showTitle": false,
     "title": ""
    }
   },
   "outputs": [
    {
     "ename": "",
     "evalue": "",
     "output_type": "error",
     "traceback": [
      "\u001b[1;31mThe Kernel crashed while executing code in the the current cell or a previous cell. Please review the code in the cell(s) to identify a possible cause of the failure. Click <a href='https://aka.ms/vscodeJupyterKernelCrash'>here</a> for more info. View Jupyter <a href='command:jupyter.viewOutput'>log</a> for further details."
     ]
    }
   ],
   "source": [
    "df = aggregate()"
   ]
  },
  {
   "cell_type": "code",
   "execution_count": null,
   "metadata": {
    "application/vnd.databricks.v1+cell": {
     "cellMetadata": {
      "byteLimit": 2048000,
      "rowLimit": 10000
     },
     "inputWidgets": {},
     "nuid": "e9963198-c9c4-4f0b-85cb-76e734a09d67",
     "showTitle": false,
     "title": ""
    }
   },
   "outputs": [
    {
     "data": {
      "text/html": [
       "<style scoped>\n",
       "  .ansiout {\n",
       "    display: block;\n",
       "    unicode-bidi: embed;\n",
       "    white-space: pre-wrap;\n",
       "    word-wrap: break-word;\n",
       "    word-break: break-all;\n",
       "    font-family: \"Menlo\", \"Monaco\", \"Consolas\", \"Ubuntu Mono\", \"Source Code Pro\", monospace;\n",
       "    font-size: 13px;\n",
       "    color: #555;\n",
       "    margin-left: 4px;\n",
       "    line-height: 19px;\n",
       "  }\n",
       "</style>"
      ]
     },
     "metadata": {
      "application/vnd.databricks.v1+output": {
       "arguments": {},
       "data": "",
       "errorSummary": "Command skipped",
       "errorTraceType": "html",
       "metadata": {},
       "type": "ipynbError"
      }
     },
     "output_type": "display_data"
    }
   ],
   "source": [
    "df.to_parquet('/dbfs/mnt/iqbsdata/HAN/Month2/HECTORdataAggregated.parquet')"
   ]
  }
 ],
 "metadata": {
  "application/vnd.databricks.v1+notebook": {
   "dashboards": [],
   "language": "python",
   "notebookMetadata": {
    "pythonIndentUnit": 4
   },
   "notebookName": "Data",
   "widgets": {}
  },
  "kernelspec": {
   "display_name": "Python 3",
   "language": "python",
   "name": "python3"
  },
  "language_info": {
   "codemirror_mode": {
    "name": "ipython",
    "version": 3
   },
   "file_extension": ".py",
   "mimetype": "text/x-python",
   "name": "python",
   "nbconvert_exporter": "python",
   "pygments_lexer": "ipython3",
   "version": "3.11.5"
  }
 },
 "nbformat": 4,
 "nbformat_minor": 0
}
